{
 "cells": [
  {
   "cell_type": "code",
   "execution_count": 1,
   "metadata": {},
   "outputs": [],
   "source": [
    "import numpy as np     \n",
    "import pandas as pd\n",
    "from sklearn.metrics import accuracy_score, confusion_matrix\n",
    "import random\n",
    "import seaborn as sns \n",
    "import matplotlib.pyplot as plt\n",
    "import nltk\n",
    "from nltk.stem import PorterStemmer\n",
    "from nltk.tokenize import word_tokenize\n",
    "from wordcloud import WordCloud, STOPWORDS\n",
    "from nltk.stem import WordNetLemmatizer\n",
    "import string\n",
    "import math\n",
    "from sklearn.utils import shuffle"
   ]
  },
  {
   "cell_type": "code",
   "execution_count": 2,
   "metadata": {},
   "outputs": [
    {
     "name": "stdout",
     "output_type": "stream",
     "text": [
      "(37864, 3)\n",
      "(3293, 3)\n",
      "(37864,) <class 'numpy.ndarray'> <class 'str'>\n",
      "(3293,) <class 'numpy.ndarray'> <class 'str'>\n"
     ]
    }
   ],
   "source": [
    "train_data=pd.read_csv(r'Corona_train.csv')\n",
    "validation_data=pd.read_csv(r'Corona_validation.csv')\n",
    "train_data=np.array(train_data)\n",
    "validation_data=np.array(validation_data)\n",
    "\n",
    "print(train_data.shape)\n",
    "print(validation_data.shape)\n",
    "X_train=train_data[:,2]\n",
    "Y_train=train_data[:,1]\n",
    "X_valid=validation_data[:,2]\n",
    "Y_valid=validation_data[:,1]\n",
    "print(Y_train.shape,type(Y_train),type(Y_train[0]))\n",
    "print(Y_valid.shape,type(Y_valid),type(Y_train[0]))"
   ]
  },
  {
   "cell_type": "code",
   "execution_count": 3,
   "metadata": {},
   "outputs": [
    {
     "name": "stdout",
     "output_type": "stream",
     "text": [
      "(37864,) <class 'numpy.ndarray'> <class 'int'>\n"
     ]
    }
   ],
   "source": [
    "n_train=Y_train.shape[0]\n",
    "n_valid=Y_valid.shape[0]\n",
    "for i in range(n_train):\n",
    "    if(Y_train[i]=='Positive'):\n",
    "        Y_train[i]=1\n",
    "    if(Y_train[i]=='Neutral'):\n",
    "        Y_train[i]=0\n",
    "    if(Y_train[i]=='Negative'):\n",
    "        Y_train[i]=-1\n",
    "for i in range(n_valid):\n",
    "    if(Y_valid[i]=='Positive'):\n",
    "        Y_valid[i]=1\n",
    "    if(Y_valid[i]=='Neutral'):\n",
    "        Y_valid[i]=0\n",
    "    if(Y_valid[i]=='Negative'):\n",
    "        Y_valid[i]=-1\n",
    "print(Y_train.shape,type(Y_train),type(Y_train[0]))"
   ]
  },
  {
   "cell_type": "code",
   "execution_count": 4,
   "metadata": {},
   "outputs": [
    {
     "name": "stdout",
     "output_type": "stream",
     "text": [
      "(37864,)\n",
      "(37864,)\n",
      "(3293,)\n",
      "(3293,)\n"
     ]
    }
   ],
   "source": [
    "print(X_train.shape)\n",
    "print(Y_train.shape)\n",
    "print(X_valid.shape)\n",
    "print(Y_valid.shape)"
   ]
  },
  {
   "cell_type": "code",
   "execution_count": 5,
   "metadata": {},
   "outputs": [],
   "source": [
    "def build_dictionary(X):\n",
    "    dict=set()\n",
    "    def build_dictionary(s):\n",
    "        for j in s.lower().split():\n",
    "            dict.add(j)\n",
    "    for j in X:\n",
    "        build_dictionary(j)\n",
    "    dictionary=list(dict)\n",
    "    dictionary.sort()\n",
    "    indexed_dictionary={}\n",
    "    for j in range(len(dictionary)):\n",
    "        indexed_dictionary[dictionary[j]]=j\n",
    "    return indexed_dictionary"
   ]
  },
  {
   "cell_type": "code",
   "execution_count": 6,
   "metadata": {},
   "outputs": [
    {
     "name": "stdout",
     "output_type": "stream",
     "text": [
      "113583\n"
     ]
    }
   ],
   "source": [
    "indexed_dictionary=build_dictionary(X_train)\n",
    "labels=[-1,0,1]\n",
    "print(len(indexed_dictionary))"
   ]
  },
  {
   "cell_type": "code",
   "execution_count": 7,
   "metadata": {},
   "outputs": [],
   "source": [
    "def probability_word_cloud(X,Y,ind_dict,label):\n",
    "    v=len(ind_dict)\n",
    "    phi_jy=[[1]*v,[1]*v,[1]*v]\n",
    "    denom=[v,v,v]\n",
    "    word_cloud={-1:\"\",0:\"\",1:\"\"}\n",
    "    n=X.shape[0]\n",
    "    for j in range(n):\n",
    "        for k in X[j].lower().split():\n",
    "            phi_jy[Y[j]+1][ind_dict[k]]+=1\n",
    "        word_cloud[Y[j]]=word_cloud[Y[j]]+\" \"+X[j]\n",
    "        denom[Y[j]+1]+=len(X[j].lower().split())\n",
    "    for k in range(3):\n",
    "        for j in range(v):\n",
    "            phi_jy[k][j]/=denom[k]\n",
    "    phi_y={}\n",
    "    for j in label:\n",
    "        b=np.sum(Y==j)\n",
    "        phi_y[j]=(np.sum(Y==j))/n\n",
    "    return phi_y, phi_jy, word_cloud"
   ]
  },
  {
   "cell_type": "code",
   "execution_count": 8,
   "metadata": {},
   "outputs": [
    {
     "name": "stdout",
     "output_type": "stream",
     "text": [
      "{-1: 0.37412845975068665, 0: 0.1874075639129516, 1: 0.4384639763363617}\n"
     ]
    }
   ],
   "source": [
    "phi_y,phi_jy,word_cloud=probability_word_cloud(X_train,Y_train,indexed_dictionary,labels)\n",
    "print(phi_y)"
   ]
  },
  {
   "cell_type": "code",
   "execution_count": 9,
   "metadata": {},
   "outputs": [],
   "source": [
    "def predict(X,prob_y,prob_jy,ind_dict):\n",
    "    n=len(X)\n",
    "    output=[]\n",
    "    for i in range(n):\n",
    "        temp_prob=-1e1000\n",
    "        temp_label=-1\n",
    "        for k in range(3):\n",
    "            p=np.log(prob_y[k-1])\n",
    "            for l in X[i].lower().split():\n",
    "                if(l in ind_dict):\n",
    "                    p+=np.log(prob_jy[k][ind_dict[l]])\n",
    "            # print(p)\n",
    "            if(temp_prob<p):\n",
    "                temp_prob=p\n",
    "                temp_label=k-1\n",
    "        output.append(temp_label)\n",
    "    return np.array(output)"
   ]
  },
  {
   "cell_type": "code",
   "execution_count": 10,
   "metadata": {},
   "outputs": [],
   "source": [
    "Y_train_pred=predict(X_train,phi_y,phi_jy,indexed_dictionary)\n",
    "Y_valid_pred=predict(X_valid,phi_y,phi_jy,indexed_dictionary)"
   ]
  },
  {
   "cell_type": "code",
   "execution_count": 11,
   "metadata": {},
   "outputs": [],
   "source": [
    "Y_train_aslist=Y_train.tolist()\n",
    "Y_train_pred_aslist=Y_train_pred.tolist()\n",
    "Y_valid_aslist=Y_valid.tolist()\n",
    "Y_valid_pred_aslist=Y_valid_pred.tolist()"
   ]
  },
  {
   "cell_type": "code",
   "execution_count": 12,
   "metadata": {},
   "outputs": [
    {
     "name": "stdout",
     "output_type": "stream",
     "text": [
      "pred_train_Accuracy: 0.8438094231988168\n",
      "pred_valid_Accuracy: 0.6774977224415427\n"
     ]
    }
   ],
   "source": [
    "train_accuracy = accuracy_score(Y_train_aslist, Y_train_pred_aslist)\n",
    "print('pred_train_Accuracy:', train_accuracy)\n",
    "valid_accuracy = accuracy_score(Y_valid_aslist, Y_valid_pred_aslist)\n",
    "print('pred_valid_Accuracy:', valid_accuracy)\n"
   ]
  },
  {
   "cell_type": "code",
   "execution_count": 13,
   "metadata": {},
   "outputs": [],
   "source": [
    "for i in [-1,0,1]:\n",
    "    temp_str=word_cloud[i]\n",
    "    wc=WordCloud(\n",
    "        background_color='white',\n",
    "        height=600,\n",
    "        width=400\n",
    "    )\n",
    "    wc.generate(temp_str)\n",
    "    wc.to_file('word_cloud_for_class_{val}.png'.format(val=i))"
   ]
  },
  {
   "cell_type": "code",
   "execution_count": 14,
   "metadata": {},
   "outputs": [
    {
     "name": "stdout",
     "output_type": "stream",
     "text": [
      "Accuracy for random prediction of training data: 0.3350940207056835\n",
      "Accuracy for random prediction of validation data: 0.34072274521712725\n",
      "Accuracy for positive prediction of training data: 0.4384639763363617\n",
      "Accuracy for positive prediction of validation data: 0.4385059216519891\n"
     ]
    }
   ],
   "source": [
    "random_predict_train=[0]*X_train.shape[0]\n",
    "random_predict_valid=[0]*X_valid.shape[0]\n",
    "for j in range(X_train.shape[0]):\n",
    "    rand_pred=random.choice(labels)\n",
    "    random_predict_train[j]=rand_pred\n",
    "for j in range(X_valid.shape[0]):\n",
    "    rand_pred=random.choice(labels)\n",
    "    random_predict_valid[j]=rand_pred\n",
    "\n",
    "\n",
    "positive_predict_train=[1]*X_train.shape[0]\n",
    "positive_predict_valid=[1]*X_valid.shape[0]\n",
    "train_random_accuracy = accuracy_score(random_predict_train, Y_train_aslist)\n",
    "valid_random_accuracy = accuracy_score(random_predict_valid, Y_valid_aslist)\n",
    "positive_train_accuracy = accuracy_score(positive_predict_train, Y_train_aslist)\n",
    "positive_valid_accuracy = accuracy_score(positive_predict_valid, Y_valid_aslist)\n",
    "print('Accuracy for random prediction of training data:', train_random_accuracy)\n",
    "print('Accuracy for random prediction of validation data:', valid_random_accuracy)\n",
    "print('Accuracy for positive prediction of training data:', positive_train_accuracy)\n",
    "print('Accuracy for positive prediction of validation data:', positive_valid_accuracy)"
   ]
  },
  {
   "cell_type": "code",
   "execution_count": 15,
   "metadata": {},
   "outputs": [
    {
     "data": {
      "image/png": "[encoded data removed]",
      "text/plain": [
       "<Figure size 432x288 with 2 Axes>"
      ]
     },
     "metadata": {
      "needs_background": "light"
     },
     "output_type": "display_data"
    }
   ],
   "source": [
    "# compute the confusion matrix\n",
    "cm = confusion_matrix(Y_train_aslist,Y_train_pred_aslist)\n",
    " \n",
    "#Plot the confusion matrix.\n",
    "sns.heatmap(cm,annot=True,fmt='g',xticklabels=['Negative', 'Neutral','Positive'],yticklabels=['Negative', 'Neutral','Positive'])\n",
    "plt.ylabel('Actual',fontsize=13)\n",
    "plt.xlabel('Predicted',fontsize=13)\n",
    "plt.title('Confusion Matrix of training data for Naive Bayes',fontsize=17)\n",
    "plt.show()\n",
    " "
   ]
  },
  {
   "cell_type": "code",
   "execution_count": 16,
   "metadata": {},
   "outputs": [
    {
     "data": {
      "image/png": "[encoded data removed]",
      "text/plain": [
       "<Figure size 432x288 with 2 Axes>"
      ]
     },
     "metadata": {
      "needs_background": "light"
     },
     "output_type": "display_data"
    }
   ],
   "source": [
    "# compute the confusion matrix\n",
    "cm = confusion_matrix(Y_valid_aslist, Y_valid_pred_aslist)\n",
    " \n",
    "#Plot the confusion matrix.\n",
    "sns.heatmap(cm,annot=True,fmt='g',xticklabels=['Negative', 'Neutral','Positive'],yticklabels=['Negative', 'Neutral','Positive'])\n",
    "plt.ylabel('Actual',fontsize=13)\n",
    "plt.xlabel('Predicted',fontsize=13)\n",
    "plt.title('Confusion Matrix of validation data for Naive Bayes',fontsize=17)\n",
    "plt.show()"
   ]
  },
  {
   "cell_type": "code",
   "execution_count": 17,
   "metadata": {},
   "outputs": [
    {
     "data": {
      "image/png": "[encoded data removed]",
      "text/plain": [
       "<Figure size 432x288 with 2 Axes>"
      ]
     },
     "metadata": {
      "needs_background": "light"
     },
     "output_type": "display_data"
    }
   ],
   "source": [
    "# compute the confusion matrix\n",
    "cm = confusion_matrix(Y_train_aslist,positive_predict_train)\n",
    " \n",
    "#Plot the confusion matrix.\n",
    "sns.heatmap(cm,annot=True,fmt='g',xticklabels=['Negative', 'Neutral','Positive'],yticklabels=['Negative', 'Neutral','Positive'])\n",
    "plt.ylabel('Actual',fontsize=13)\n",
    "plt.xlabel('Predicted',fontsize=13)\n",
    "plt.title('Confusion Matrix for positive prediction of training data set',fontsize=14)\n",
    "plt.show()"
   ]
  },
  {
   "cell_type": "code",
   "execution_count": 18,
   "metadata": {},
   "outputs": [
    {
     "data": {
      "image/png": "[encoded data removed]",
      "text/plain": [
       "<Figure size 432x288 with 2 Axes>"
      ]
     },
     "metadata": {
      "needs_background": "light"
     },
     "output_type": "display_data"
    }
   ],
   "source": [
    "# compute the confusion matrix\n",
    "cm = confusion_matrix(Y_valid_aslist,positive_predict_valid)\n",
    " \n",
    "#Plot the confusion matrix.\n",
    "sns.heatmap(cm,annot=True,fmt='g',xticklabels=['Negative', 'Neutral','Positive'],yticklabels=['Negative', 'Neutral','Positive'])\n",
    "plt.ylabel('Actual',fontsize=13)\n",
    "plt.xlabel('Predicted',fontsize=13)\n",
    "plt.title('Confusion Matrix for positive prediction for validation data',fontsize=13)\n",
    "plt.show()"
   ]
  },
  {
   "cell_type": "code",
   "execution_count": 19,
   "metadata": {},
   "outputs": [
    {
     "data": {
      "image/png": "[encoded data removed]",
      "text/plain": [
       "<Figure size 432x288 with 2 Axes>"
      ]
     },
     "metadata": {
      "needs_background": "light"
     },
     "output_type": "display_data"
    }
   ],
   "source": [
    "# compute the confusion matrix\n",
    "cm = confusion_matrix(Y_train_aslist, random_predict_train)\n",
    " \n",
    "#Plot the confusion matrix.\n",
    "sns.heatmap(cm,annot=True,fmt='g',xticklabels=['Negative', 'Neutral','Positive'],yticklabels=['Negative', 'Neutral','Positive'])\n",
    "plt.ylabel('Actual',fontsize=13)\n",
    "plt.xlabel('Predicted',fontsize=13)\n",
    "plt.title('Confusion Matrix for random prediction of training data',fontsize=13)\n",
    "plt.show()"
   ]
  },
  {
   "cell_type": "code",
   "execution_count": 20,
   "metadata": {},
   "outputs": [
    {
     "data": {
      "image/png": "[encoded data removed]",
      "text/plain": [
       "<Figure size 432x288 with 2 Axes>"
      ]
     },
     "metadata": {
      "needs_background": "light"
     },
     "output_type": "display_data"
    }
   ],
   "source": [
    "# compute the confusion matrix\n",
    "cm = confusion_matrix(Y_valid_aslist, random_predict_valid)\n",
    " \n",
    "#Plot the confusion matrix.\n",
    "sns.heatmap(cm,annot=True,fmt='g',xticklabels=['Negative', 'Neutral','Positive'],yticklabels=['Negative', 'Neutral','Positive'])\n",
    "plt.ylabel('Actual',fontsize=13)\n",
    "plt.xlabel('Predicted',fontsize=13)\n",
    "plt.title('Confusion Matrix for random prediction of validation data',fontsize=13)\n",
    "plt.show()"
   ]
  },
  {
   "cell_type": "code",
   "execution_count": 21,
   "metadata": {},
   "outputs": [],
   "source": [
    "ps = PorterStemmer()\n",
    "stopword=STOPWORDS\n",
    "\n",
    "# Function to perform stemming and stop-word removal\n",
    "def preprocess_text(text):\n",
    "    words = [ps.stem(word) for word in text.lower().split() if word not in stopword]\n",
    "    return ' '.join(words)"
   ]
  },
  {
   "cell_type": "code",
   "execution_count": 22,
   "metadata": {},
   "outputs": [],
   "source": [
    "# # Apply preprocessing to training and validation data\n",
    "stemed_training_data = [preprocess_text(text) for text in X_train]\n",
    "stemed_validation_data = [preprocess_text(text) for text in X_valid]\n",
    "stemed_training_data=np.array(stemed_training_data)\n",
    "stemed_validation_data=np.array(stemed_validation_data)\n"
   ]
  },
  {
   "cell_type": "code",
   "execution_count": 23,
   "metadata": {},
   "outputs": [],
   "source": [
    "stemed_indexed_dictionary=build_dictionary(stemed_training_data)\n",
    "stemed_phi_y,stemed_phi_jy,stemed_word_cloud=probability_word_cloud(stemed_training_data,Y_train,stemed_indexed_dictionary,labels)"
   ]
  },
  {
   "cell_type": "code",
   "execution_count": 24,
   "metadata": {},
   "outputs": [
    {
     "name": "stdout",
     "output_type": "stream",
     "text": [
      "103815\n",
      "113583\n"
     ]
    }
   ],
   "source": [
    "print(len(stemed_indexed_dictionary))\n",
    "print(len(indexed_dictionary))"
   ]
  },
  {
   "cell_type": "code",
   "execution_count": 25,
   "metadata": {},
   "outputs": [],
   "source": [
    "Y_train_stemed_pred=predict(stemed_training_data,stemed_phi_y,stemed_phi_jy,stemed_indexed_dictionary)\n",
    "Y_valid_stemed_pred=predict(stemed_validation_data,stemed_phi_y,stemed_phi_jy,stemed_indexed_dictionary)"
   ]
  },
  {
   "cell_type": "code",
   "execution_count": 26,
   "metadata": {},
   "outputs": [
    {
     "name": "stdout",
     "output_type": "stream",
     "text": [
      "stemed_train_Accuracy: 0.8475332769913374\n",
      "stemed_valid_Accuracy: 0.6604919526267841\n"
     ]
    }
   ],
   "source": [
    "stemed_Y_train_pred_aslist=Y_train_stemed_pred.tolist()\n",
    "stemed_Y_valid_pred_aslist=Y_valid_stemed_pred.tolist()\n",
    "stemed_train_accuracy = accuracy_score(stemed_Y_train_pred_aslist, Y_train_aslist)\n",
    "stemed_valid_accuracy = accuracy_score(stemed_Y_valid_pred_aslist, Y_valid_aslist)\n",
    "print('stemed_train_Accuracy:', stemed_train_accuracy)\n",
    "print('stemed_valid_Accuracy:', stemed_valid_accuracy)"
   ]
  },
  {
   "cell_type": "code",
   "execution_count": 44,
   "metadata": {},
   "outputs": [
    {
     "name": "stdout",
     "output_type": "stream",
     "text": [
      "192\n"
     ]
    }
   ],
   "source": [
    "stopwords=STOPWORDS\n",
    "print(len(stopwords))\n",
    "for i in [-1,0,1]:\n",
    "    temp_str=stemed_word_cloud[i]\n",
    "    wc=WordCloud(\n",
    "        background_color='white',\n",
    "        stopwords=stopwords,\n",
    "        height=600,\n",
    "        width=400\n",
    "    )\n",
    "    wc.generate(temp_str)\n",
    "    wc.to_file('stemed_word_cloud_for_class_{val}.png'.format(val=i))"
   ]
  },
  {
   "cell_type": "code",
   "execution_count": 28,
   "metadata": {},
   "outputs": [],
   "source": [
    "def generate_bigrams(text):\n",
    "    words = text.split()\n",
    "    bigrams = [(words[i]+'-'+words[i+1]) for i in range(len(words) - 1)]\n",
    "    return  text+' '+' '.join(bigrams)\n",
    "bigram_X_train=np.array([generate_bigrams(text) for text in stemed_training_data])\n",
    "bigram_X_valid=np.array([generate_bigrams(text) for text in stemed_validation_data])"
   ]
  },
  {
   "cell_type": "code",
   "execution_count": 29,
   "metadata": {},
   "outputs": [],
   "source": [
    "bigram_indexed_dictionary=build_dictionary(bigram_X_train)\n",
    "bigram_phi_y,bigram_phi_jy,bigram_word_cloud=probability_word_cloud(bigram_X_train,Y_train,bigram_indexed_dictionary,labels)"
   ]
  },
  {
   "cell_type": "code",
   "execution_count": 30,
   "metadata": {},
   "outputs": [
    {
     "name": "stdout",
     "output_type": "stream",
     "text": [
      "570745\n",
      "113583\n"
     ]
    }
   ],
   "source": [
    "print(len(bigram_indexed_dictionary))\n",
    "print(len(indexed_dictionary))"
   ]
  },
  {
   "cell_type": "code",
   "execution_count": 31,
   "metadata": {},
   "outputs": [],
   "source": [
    "Y_train_bigram_pred=predict(bigram_X_train,bigram_phi_y,bigram_phi_jy,bigram_indexed_dictionary)\n",
    "Y_valid_bigram_pred=predict(bigram_X_valid,bigram_phi_y,bigram_phi_jy,bigram_indexed_dictionary)"
   ]
  },
  {
   "cell_type": "code",
   "execution_count": 32,
   "metadata": {},
   "outputs": [
    {
     "name": "stdout",
     "output_type": "stream",
     "text": [
      "bigram_train_Accuracy: 0.9621804352419184\n",
      "bigram_valid_Accuracy: 0.657151533556028\n"
     ]
    }
   ],
   "source": [
    "bigram_Y_train_pred_aslist=Y_train_bigram_pred.tolist()\n",
    "bigram_Y_valid_pred_aslist=Y_valid_bigram_pred.tolist()\n",
    "bigram_train_accuracy = accuracy_score(bigram_Y_train_pred_aslist, Y_train_aslist)\n",
    "bigram_valid_accuracy = accuracy_score(bigram_Y_valid_pred_aslist, Y_valid_aslist)\n",
    "print('bigram_train_Accuracy:', bigram_train_accuracy)\n",
    "print('bigram_valid_Accuracy:', bigram_valid_accuracy)"
   ]
  },
  {
   "cell_type": "code",
   "execution_count": 33,
   "metadata": {},
   "outputs": [],
   "source": [
    "def add_extract_pos_tags(text):\n",
    "    tokens = nltk.word_tokenize(text)\n",
    "    pos_tags = nltk.pos_tag(tokens)\n",
    "    return text+' '+' '.join([tag for word, tag in pos_tags])"
   ]
  },
  {
   "cell_type": "code",
   "execution_count": 34,
   "metadata": {},
   "outputs": [],
   "source": [
    "feature_add_X_train=np.array([add_extract_pos_tags(text) for text in stemed_training_data])\n",
    "feature_add_X_valid=np.array([add_extract_pos_tags(text) for text in stemed_validation_data])"
   ]
  },
  {
   "cell_type": "code",
   "execution_count": 35,
   "metadata": {},
   "outputs": [
    {
     "name": "stdout",
     "output_type": "stream",
     "text": [
      "see kind academ alreadi whip #covid_19 relat projects, cfp, syllabi, articles, blog posts. iâm sittin brows food left &amp; tryin figur go back groceri store. appar donât well pandem VB NN JJ NN NN # NN JJ NNS , NN , NN , NNS , NN NNS . NN NN VBZ NN VBD CC NN : CC VB VB RB NN NN . NN NN RB RB\n"
     ]
    }
   ],
   "source": [
    "print(feature_add_X_train[0])"
   ]
  },
  {
   "cell_type": "code",
   "execution_count": 36,
   "metadata": {},
   "outputs": [],
   "source": [
    "feature_add_indexed_dictionary=build_dictionary(feature_add_X_train)\n",
    "feature_add_phi_y,feature_add_phi_jy,feature_add_word_cloud=probability_word_cloud(feature_add_X_train,Y_train,feature_add_indexed_dictionary,labels)"
   ]
  },
  {
   "cell_type": "code",
   "execution_count": 37,
   "metadata": {},
   "outputs": [
    {
     "name": "stdout",
     "output_type": "stream",
     "text": [
      "103842\n",
      "113583\n"
     ]
    }
   ],
   "source": [
    "print(len(feature_add_indexed_dictionary))\n",
    "print(len(indexed_dictionary))"
   ]
  },
  {
   "cell_type": "code",
   "execution_count": 38,
   "metadata": {},
   "outputs": [],
   "source": [
    "Y_train_feature_add_pred=predict(feature_add_X_train,feature_add_phi_y,feature_add_phi_jy,feature_add_indexed_dictionary)\n",
    "Y_valid_feature_add_pred=predict(feature_add_X_valid,feature_add_phi_y,feature_add_phi_jy,feature_add_indexed_dictionary)"
   ]
  },
  {
   "cell_type": "code",
   "execution_count": 39,
   "metadata": {},
   "outputs": [
    {
     "name": "stdout",
     "output_type": "stream",
     "text": [
      "feature_add_train_Accuracy: 0.8258240016902598\n",
      "feature_add_valid_Accuracy: 0.6638323716975403\n"
     ]
    }
   ],
   "source": [
    "feature_add_Y_train_pred_aslist=Y_train_feature_add_pred.tolist()\n",
    "feature_add_Y_valid_pred_aslist=Y_valid_feature_add_pred.tolist()\n",
    "feature_add_train_accuracy = accuracy_score(feature_add_Y_train_pred_aslist, Y_train_aslist)\n",
    "feature_add_valid_accuracy = accuracy_score(feature_add_Y_valid_pred_aslist, Y_valid_aslist)\n",
    "print('feature_add_train_Accuracy:', feature_add_train_accuracy)\n",
    "print('feature_add_valid_Accuracy:', feature_add_valid_accuracy)"
   ]
  },
  {
   "cell_type": "code",
   "execution_count": 40,
   "metadata": {},
   "outputs": [],
   "source": [
    "percentage_of_target_data=[1,2,5,10,25,50,100]\n",
    "combined_valid_accuracy=[]\n",
    "target_valid_accuracy=[]"
   ]
  },
  {
   "cell_type": "code",
   "execution_count": 41,
   "metadata": {},
   "outputs": [],
   "source": [
    "for i in percentage_of_target_data:\n",
    "    X_training_data=stemed_training_data\n",
    "    m=int((stemed_validation_data.shape[0]*i)/100)\n",
    "    random_indices = np.random.choice(stemed_validation_data.shape[0], m, replace=False)\n",
    "    X_target_data = stemed_validation_data[random_indices]\n",
    "    Y_target_data = Y_valid[random_indices]\n",
    "\n",
    "    X_combined=np.append(X_training_data,X_target_data,axis=0)\n",
    "    Y_combined=np.append(Y_train,Y_target_data,axis=0)\n",
    "\n",
    "    combined_indexed_dictionary=build_dictionary(X_combined)\n",
    "    combined_phi_y, combined_phi_jy, combined_word_cloud=probability_word_cloud(X_combined,Y_combined,combined_indexed_dictionary,labels)\n",
    "\n",
    "    target_indexed_dictionary=build_dictionary(X_target_data)\n",
    "    target_phi_y, target_phi_jy, target_word_cloud=probability_word_cloud(X_target_data,Y_target_data, target_indexed_dictionary, labels)\n",
    "\n",
    "    combined_valid_pred=predict(stemed_validation_data,combined_phi_y,combined_phi_jy,combined_indexed_dictionary)\n",
    "    target_valid_pred=predict(stemed_validation_data,target_phi_y,target_phi_jy, target_indexed_dictionary)\n",
    "\n",
    "    combined_valid_pred_aslist=combined_valid_pred.tolist()\n",
    "    target_valid_pred_aslist=target_valid_pred.tolist()\n",
    "    combined_accuracy = accuracy_score(combined_valid_pred_aslist, Y_valid_aslist)\n",
    "    target_accuracy = accuracy_score(target_valid_pred_aslist, Y_valid_aslist)\n",
    "    combined_valid_accuracy.append(combined_accuracy)\n",
    "    target_valid_accuracy.append(target_accuracy)\n"
   ]
  },
  {
   "cell_type": "code",
   "execution_count": 42,
   "metadata": {},
   "outputs": [
    {
     "name": "stdout",
     "output_type": "stream",
     "text": [
      "size of training data in target domain(%) = 1.000000, combined(source and target domain) accuracy= 0.6608, target domain accuracy = 0.4282\n",
      "size of training data in target domain(%) = 2.000000, combined(source and target domain) accuracy= 0.6611, target domain accuracy = 0.4880\n",
      "size of training data in target domain(%) = 5.000000, combined(source and target domain) accuracy= 0.6669, target domain accuracy = 0.5269\n",
      "size of training data in target domain(%) = 10.000000, combined(source and target domain) accuracy= 0.6778, target domain accuracy = 0.5752\n",
      "size of training data in target domain(%) = 25.000000, combined(source and target domain) accuracy= 0.7109, target domain accuracy = 0.6742\n",
      "size of training data in target domain(%) = 50.000000, combined(source and target domain) accuracy= 0.7565, target domain accuracy = 0.7674\n",
      "size of training data in target domain(%) = 100.000000, combined(source and target domain) accuracy= 0.8482, target domain accuracy = 0.9198\n"
     ]
    }
   ],
   "source": [
    "for i, p in enumerate(percentage_of_target_data):\n",
    "    print(\"size of training data in target domain(%) = {:.6f}, combined(source and target domain) accuracy= {:.4f}, target domain accuracy = {:.4f}\".format(p, combined_valid_accuracy[i], target_valid_accuracy[i]))"
   ]
  },
  {
   "cell_type": "code",
   "execution_count": 43,
   "metadata": {},
   "outputs": [
    {
     "data": {
      "image/png": "[encoded data removed]",
      "text/plain": [
       "<Figure size 432x288 with 1 Axes>"
      ]
     },
     "metadata": {
      "needs_background": "light"
     },
     "output_type": "display_data"
    }
   ],
   "source": [
    "# Plot the results\n",
    "plt.plot(percentage_of_target_data,  combined_valid_accuracy, label=\"With Source Data\",marker='o')\n",
    "plt.plot(percentage_of_target_data, target_valid_accuracy, label=\"Without Source Data\",marker='x')\n",
    "plt.xlabel(\"Percentage of Target Data\")\n",
    "plt.ylabel(\"Validation Accuracy\")\n",
    "plt.legend()\n",
    "plt.show()"
   ]
  }
 ],
 "metadata": {
  "kernelspec": {
   "display_name": "base",
   "language": "python",
   "name": "python3"
  },
  "language_info": {
   "codemirror_mode": {
    "name": "ipython",
    "version": 3
   },
   "file_extension": ".py",
   "mimetype": "text/x-python",
   "name": "python",
   "nbconvert_exporter": "python",
   "pygments_lexer": "ipython3",
   "version": "3.9.7"
  },
  "orig_nbformat": 4
 },
 "nbformat": 4,
 "nbformat_minor": 2
}
